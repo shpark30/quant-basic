{
 "cells": [
  {
   "cell_type": "code",
   "execution_count": 7,
   "metadata": {},
   "outputs": [],
   "source": [
    "import pandas as pd\n",
    "from tqdm import tqdm\n",
    "from collections import defaultdict\n",
    "import json\n",
    "import matplotlib.pyplot as plt\n",
    "import seaborn as sns\n",
    "sns.set(rc = {'figure.figsize':(15,8)})"
   ]
  },
  {
   "cell_type": "markdown",
   "metadata": {},
   "source": [
    "# 종목정보 데이터 분석\n",
    "\n",
    "먼저 거래소를 통해 수집한 산업별 현황과 개별지표를 정리한 파일, WICS 기준 섹터 지표를 정리한 파일을 통해 국내 상장종목의 데이터를 분석해보겠습니다."
   ]
  },
  {
   "cell_type": "code",
   "execution_count": 13,
   "metadata": {},
   "outputs": [
    {
     "name": "stdout",
     "output_type": "stream",
     "text": [
      "<class 'pandas.core.frame.DataFrame'>\n",
      "Int64Index: 2268 entries, 0 to 2267\n",
      "Data columns (total 28 columns):\n",
      " #   Column       Non-Null Count  Dtype  \n",
      "---  ------       --------------  -----  \n",
      " 0   종목코드         2268 non-null   object \n",
      " 1   종목명          2268 non-null   object \n",
      " 2   시장구분         2268 non-null   object \n",
      " 3   업종명          2268 non-null   object \n",
      " 4   종가           2268 non-null   int64  \n",
      " 5   대비           2268 non-null   int64  \n",
      " 6   등락률          2268 non-null   float64\n",
      " 7   시가총액         2268 non-null   int64  \n",
      " 8   EPS          1586 non-null   float64\n",
      " 9   PER          1586 non-null   float64\n",
      " 10  선행 EPS       567 non-null    float64\n",
      " 11  선행 PER       567 non-null    float64\n",
      " 12  BPS          2258 non-null   float64\n",
      " 13  PBR          2258 non-null   float64\n",
      " 14  주당배당금        2268 non-null   int64  \n",
      " 15  배당수익률        2268 non-null   float64\n",
      " 16  IDX_CD       2176 non-null   object \n",
      " 17  IDX_NM_KOR   2176 non-null   object \n",
      " 18  ALL_MKT_VAL  2176 non-null   float64\n",
      " 19  MKT_VAL      2176 non-null   float64\n",
      " 20  WGT          2176 non-null   float64\n",
      " 21  S_WGT        2176 non-null   float64\n",
      " 22  CAL_WGT      2176 non-null   float64\n",
      " 23  SEC_CD       2176 non-null   object \n",
      " 24  SEC_NM_KOR   2176 non-null   object \n",
      " 25  SEQ          2176 non-null   float64\n",
      " 26  TOP60        2176 non-null   float64\n",
      " 27  APT_SHR_CNT  2176 non-null   float64\n",
      "dtypes: float64(16), int64(4), object(8)\n",
      "memory usage: 513.8+ KB\n"
     ]
    }
   ],
   "source": [
    "code_template = '{0:06d}'\n",
    "KOR_ticker = pd.read_csv('data/KOR_ticker.csv', encoding='cp949')\n",
    "KOR_ticker['종목코드'] = KOR_ticker['종목코드'].apply(lambda x: code_template.format(x))\n",
    "KOR_sector = pd.read_csv('data/KOR_sector.csv', encoding='cp949')\n",
    "KOR_sector['CMP_CD'] = KOR_sector['CMP_CD'].apply(lambda x: code_template.format(x))\n",
    "\n",
    "data_market = pd.merge(KOR_ticker, KOR_sector, how='left', left_on=['종목코드', '종목명'], right_on=['CMP_CD', 'CMP_KOR'])\n",
    "data_market = data_market.drop(['CMP_CD', 'CMP_KOR'], axis=1)\n",
    "data_market.info()"
   ]
  },
  {
   "cell_type": "code",
   "execution_count": 14,
   "metadata": {},
   "outputs": [
    {
     "data": {
      "text/plain": [
       "array(['IT', '건강관리', '소재', '커뮤니케이션서비스', '경기관련소비재', '산업재', '금융', '에너지',\n",
       "       '유틸리티', '필수소비재', nan], dtype=object)"
      ]
     },
     "execution_count": 14,
     "metadata": {},
     "output_type": "execute_result"
    }
   ],
   "source": [
    "# 섹터\n",
    "data_market['SEC_NM_KOR'].unique()"
   ]
  },
  {
   "cell_type": "code",
   "execution_count": 55,
   "metadata": {},
   "outputs": [
    {
     "data": {
      "text/plain": [
       "IT           596\n",
       "경기관련소비재      352\n",
       "산업재          351\n",
       "건강관리         293\n",
       "소재           229\n",
       "커뮤니케이션서비스    115\n",
       "필수소비재        103\n",
       "금융            84\n",
       "에너지           36\n",
       "유틸리티          17\n",
       "Name: SEC_NM_KOR, dtype: int64"
      ]
     },
     "execution_count": 55,
     "metadata": {},
     "output_type": "execute_result"
    }
   ],
   "source": [
    "data_market['SEC_NM_KOR'].value_counts()"
   ]
  },
  {
   "cell_type": "code",
   "execution_count": 56,
   "metadata": {},
   "outputs": [
    {
     "data": {
      "text/plain": [
       "화학             190\n",
       "반도체            122\n",
       "기계·장비          110\n",
       "제약             109\n",
       "IT부품           108\n",
       "기타서비스          104\n",
       "소프트웨어           91\n",
       "유통              91\n",
       "서비스업            75\n",
       "일반전기전자          70\n",
       "의료·정밀기기         69\n",
       "기타금융            65\n",
       "운송장비·부품         63\n",
       "금속              62\n",
       "유통업             62\n",
       "전기전자            61\n",
       "운수장비            60\n",
       "통신장비            51\n",
       "철강금속            49\n",
       "의약품             46\n",
       "디지털컨텐츠          42\n",
       "기계              41\n",
       "음식료·담배          39\n",
       "음식료품            37\n",
       "금융              32\n",
       "오락·문화           30\n",
       "건설              29\n",
       "건설업             28\n",
       "컴퓨터서비스          25\n",
       "운수창고업           25\n",
       "출판·매체복제         25\n",
       "섬유의복            24\n",
       "비금속광물           23\n",
       "정보기기            21\n",
       "증권              19\n",
       "종이목재            18\n",
       "섬유·의류           18\n",
       "기타제조업           15\n",
       "기타제조            14\n",
       "비금속             13\n",
       "보험              12\n",
       "인터넷             10\n",
       "종이·목재           10\n",
       "전기가스업           10\n",
       "통신서비스            9\n",
       "의료정밀             8\n",
       "방송서비스            8\n",
       "농업, 임업 및 어업      6\n",
       "운송               5\n",
       "통신업              4\n",
       "은행               3\n",
       "숙박·음식            3\n",
       "광업               2\n",
       "전기·가스·수도         2\n",
       "Name: 업종명, dtype: int64"
      ]
     },
     "execution_count": 56,
     "metadata": {},
     "output_type": "execute_result"
    }
   ],
   "source": [
    "data_market['업종명'].value_counts()"
   ]
  },
  {
   "cell_type": "code",
   "execution_count": 24,
   "metadata": {},
   "outputs": [
    {
     "data": {
      "text/html": [
       "<div>\n",
       "<style scoped>\n",
       "    .dataframe tbody tr th:only-of-type {\n",
       "        vertical-align: middle;\n",
       "    }\n",
       "\n",
       "    .dataframe tbody tr th {\n",
       "        vertical-align: top;\n",
       "    }\n",
       "\n",
       "    .dataframe thead th {\n",
       "        text-align: right;\n",
       "    }\n",
       "</style>\n",
       "<table border=\"1\" class=\"dataframe\">\n",
       "  <thead>\n",
       "    <tr style=\"text-align: right;\">\n",
       "      <th></th>\n",
       "      <th>종목명</th>\n",
       "      <th>ROE</th>\n",
       "      <th>size</th>\n",
       "    </tr>\n",
       "  </thead>\n",
       "  <tbody>\n",
       "    <tr>\n",
       "      <th>0</th>\n",
       "      <td>삼성전자</td>\n",
       "      <td>0.1324</td>\n",
       "      <td>big</td>\n",
       "    </tr>\n",
       "    <tr>\n",
       "      <th>1</th>\n",
       "      <td>LG에너지솔루션</td>\n",
       "      <td>0.0995</td>\n",
       "      <td>big</td>\n",
       "    </tr>\n",
       "    <tr>\n",
       "      <th>2</th>\n",
       "      <td>SK하이닉스</td>\n",
       "      <td>0.1548</td>\n",
       "      <td>big</td>\n",
       "    </tr>\n",
       "    <tr>\n",
       "      <th>3</th>\n",
       "      <td>삼성바이오로직스</td>\n",
       "      <td>0.0789</td>\n",
       "      <td>big</td>\n",
       "    </tr>\n",
       "    <tr>\n",
       "      <th>4</th>\n",
       "      <td>LG화학</td>\n",
       "      <td>0.1695</td>\n",
       "      <td>big</td>\n",
       "    </tr>\n",
       "    <tr>\n",
       "      <th>...</th>\n",
       "      <td>...</td>\n",
       "      <td>...</td>\n",
       "      <td>...</td>\n",
       "    </tr>\n",
       "    <tr>\n",
       "      <th>2263</th>\n",
       "      <td>에스디시스템</td>\n",
       "      <td>0.2178</td>\n",
       "      <td>small</td>\n",
       "    </tr>\n",
       "    <tr>\n",
       "      <th>2264</th>\n",
       "      <td>제이웨이</td>\n",
       "      <td>NaN</td>\n",
       "      <td>small</td>\n",
       "    </tr>\n",
       "    <tr>\n",
       "      <th>2265</th>\n",
       "      <td>케이프이에스제4호</td>\n",
       "      <td>NaN</td>\n",
       "      <td>small</td>\n",
       "    </tr>\n",
       "    <tr>\n",
       "      <th>2266</th>\n",
       "      <td>한국코퍼레이션</td>\n",
       "      <td>0.0948</td>\n",
       "      <td>small</td>\n",
       "    </tr>\n",
       "    <tr>\n",
       "      <th>2267</th>\n",
       "      <td>에이치엔티</td>\n",
       "      <td>NaN</td>\n",
       "      <td>small</td>\n",
       "    </tr>\n",
       "  </tbody>\n",
       "</table>\n",
       "<p>2268 rows × 3 columns</p>\n",
       "</div>"
      ],
      "text/plain": [
       "            종목명     ROE   size\n",
       "0          삼성전자  0.1324    big\n",
       "1      LG에너지솔루션  0.0995    big\n",
       "2        SK하이닉스  0.1548    big\n",
       "3      삼성바이오로직스  0.0789    big\n",
       "4          LG화학  0.1695    big\n",
       "...         ...     ...    ...\n",
       "2263     에스디시스템  0.2178  small\n",
       "2264       제이웨이     NaN  small\n",
       "2265  케이프이에스제4호     NaN  small\n",
       "2266    한국코퍼레이션  0.0948  small\n",
       "2267      에이치엔티     NaN  small\n",
       "\n",
       "[2268 rows x 3 columns]"
      ]
     },
     "execution_count": 24,
     "metadata": {},
     "output_type": "execute_result"
    }
   ],
   "source": [
    "# 열 생성\n",
    "data_market['ROE'] = round(data_market['PBR'] / data_market['PER'], 4)\n",
    "data_market['size'] = 'small'\n",
    "data_market['size'][data_market['시가총액'] >= data_market['시가총액'].median(skipna=True)] = 'big'\n",
    "data_market[['종목명', 'ROE', 'size']]"
   ]
  },
  {
   "cell_type": "code",
   "execution_count": 25,
   "metadata": {},
   "outputs": [
    {
     "data": {
      "text/html": [
       "<div>\n",
       "<style scoped>\n",
       "    .dataframe tbody tr th:only-of-type {\n",
       "        vertical-align: middle;\n",
       "    }\n",
       "\n",
       "    .dataframe tbody tr th {\n",
       "        vertical-align: top;\n",
       "    }\n",
       "\n",
       "    .dataframe thead th {\n",
       "        text-align: right;\n",
       "    }\n",
       "</style>\n",
       "<table border=\"1\" class=\"dataframe\">\n",
       "  <thead>\n",
       "    <tr style=\"text-align: right;\">\n",
       "      <th></th>\n",
       "      <th>종목코드</th>\n",
       "      <th>종목명</th>\n",
       "      <th>시장구분</th>\n",
       "      <th>업종명</th>\n",
       "      <th>종가</th>\n",
       "      <th>대비</th>\n",
       "      <th>등락률</th>\n",
       "      <th>시가총액</th>\n",
       "      <th>EPS</th>\n",
       "      <th>PER</th>\n",
       "      <th>...</th>\n",
       "      <th>WGT</th>\n",
       "      <th>S_WGT</th>\n",
       "      <th>CAL_WGT</th>\n",
       "      <th>SEC_CD</th>\n",
       "      <th>SEC_NM_KOR</th>\n",
       "      <th>SEQ</th>\n",
       "      <th>TOP60</th>\n",
       "      <th>APT_SHR_CNT</th>\n",
       "      <th>ROE</th>\n",
       "      <th>size</th>\n",
       "    </tr>\n",
       "  </thead>\n",
       "  <tbody>\n",
       "    <tr>\n",
       "      <th>8</th>\n",
       "      <td>000270</td>\n",
       "      <td>기아</td>\n",
       "      <td>KOSPI</td>\n",
       "      <td>운수장비</td>\n",
       "      <td>76400</td>\n",
       "      <td>-900</td>\n",
       "      <td>-1.16</td>\n",
       "      <td>30969759710800</td>\n",
       "      <td>11874.0</td>\n",
       "      <td>6.43</td>\n",
       "      <td>...</td>\n",
       "      <td>15.51</td>\n",
       "      <td>35.05</td>\n",
       "      <td>1.0</td>\n",
       "      <td>G25</td>\n",
       "      <td>경기관련소비재</td>\n",
       "      <td>2.0</td>\n",
       "      <td>8.0</td>\n",
       "      <td>251325275.0</td>\n",
       "      <td>0.1369</td>\n",
       "      <td>big</td>\n",
       "    </tr>\n",
       "    <tr>\n",
       "      <th>11</th>\n",
       "      <td>005490</td>\n",
       "      <td>POSCO홀딩스</td>\n",
       "      <td>KOSPI</td>\n",
       "      <td>철강금속</td>\n",
       "      <td>242500</td>\n",
       "      <td>-8000</td>\n",
       "      <td>-3.19</td>\n",
       "      <td>21142807487500</td>\n",
       "      <td>87330.0</td>\n",
       "      <td>2.78</td>\n",
       "      <td>...</td>\n",
       "      <td>15.00</td>\n",
       "      <td>40.70</td>\n",
       "      <td>1.0</td>\n",
       "      <td>G15</td>\n",
       "      <td>소재</td>\n",
       "      <td>2.0</td>\n",
       "      <td>8.0</td>\n",
       "      <td>60158916.0</td>\n",
       "      <td>0.1295</td>\n",
       "      <td>big</td>\n",
       "    </tr>\n",
       "    <tr>\n",
       "      <th>26</th>\n",
       "      <td>003550</td>\n",
       "      <td>LG</td>\n",
       "      <td>KOSPI</td>\n",
       "      <td>기타금융</td>\n",
       "      <td>75600</td>\n",
       "      <td>-2000</td>\n",
       "      <td>-2.58</td>\n",
       "      <td>11891955070800</td>\n",
       "      <td>15504.0</td>\n",
       "      <td>4.88</td>\n",
       "      <td>...</td>\n",
       "      <td>4.58</td>\n",
       "      <td>25.42</td>\n",
       "      <td>1.0</td>\n",
       "      <td>G20</td>\n",
       "      <td>산업재</td>\n",
       "      <td>4.0</td>\n",
       "      <td>19.0</td>\n",
       "      <td>83369526.0</td>\n",
       "      <td>0.1168</td>\n",
       "      <td>big</td>\n",
       "    </tr>\n",
       "    <tr>\n",
       "      <th>27</th>\n",
       "      <td>086790</td>\n",
       "      <td>하나금융지주</td>\n",
       "      <td>KOSPI</td>\n",
       "      <td>기타금융</td>\n",
       "      <td>40000</td>\n",
       "      <td>-2200</td>\n",
       "      <td>-5.21</td>\n",
       "      <td>11836139040000</td>\n",
       "      <td>11819.0</td>\n",
       "      <td>3.38</td>\n",
       "      <td>...</td>\n",
       "      <td>9.30</td>\n",
       "      <td>37.44</td>\n",
       "      <td>1.0</td>\n",
       "      <td>G40</td>\n",
       "      <td>금융</td>\n",
       "      <td>3.0</td>\n",
       "      <td>8.0</td>\n",
       "      <td>263354094.0</td>\n",
       "      <td>0.1006</td>\n",
       "      <td>big</td>\n",
       "    </tr>\n",
       "    <tr>\n",
       "      <th>29</th>\n",
       "      <td>017670</td>\n",
       "      <td>SK텔레콤</td>\n",
       "      <td>KOSPI</td>\n",
       "      <td>통신업</td>\n",
       "      <td>52000</td>\n",
       "      <td>-600</td>\n",
       "      <td>-1.14</td>\n",
       "      <td>11379323488000</td>\n",
       "      <td>7191.0</td>\n",
       "      <td>7.23</td>\n",
       "      <td>...</td>\n",
       "      <td>5.24</td>\n",
       "      <td>62.13</td>\n",
       "      <td>1.0</td>\n",
       "      <td>G50</td>\n",
       "      <td>커뮤니케이션서비스</td>\n",
       "      <td>5.0</td>\n",
       "      <td>5.0</td>\n",
       "      <td>113793235.0</td>\n",
       "      <td>0.1355</td>\n",
       "      <td>big</td>\n",
       "    </tr>\n",
       "    <tr>\n",
       "      <th>...</th>\n",
       "      <td>...</td>\n",
       "      <td>...</td>\n",
       "      <td>...</td>\n",
       "      <td>...</td>\n",
       "      <td>...</td>\n",
       "      <td>...</td>\n",
       "      <td>...</td>\n",
       "      <td>...</td>\n",
       "      <td>...</td>\n",
       "      <td>...</td>\n",
       "      <td>...</td>\n",
       "      <td>...</td>\n",
       "      <td>...</td>\n",
       "      <td>...</td>\n",
       "      <td>...</td>\n",
       "      <td>...</td>\n",
       "      <td>...</td>\n",
       "      <td>...</td>\n",
       "      <td>...</td>\n",
       "      <td>...</td>\n",
       "      <td>...</td>\n",
       "    </tr>\n",
       "    <tr>\n",
       "      <th>2209</th>\n",
       "      <td>011300</td>\n",
       "      <td>성안</td>\n",
       "      <td>KOSPI</td>\n",
       "      <td>섬유의복</td>\n",
       "      <td>533</td>\n",
       "      <td>2</td>\n",
       "      <td>0.38</td>\n",
       "      <td>30305239380</td>\n",
       "      <td>383.0</td>\n",
       "      <td>1.39</td>\n",
       "      <td>...</td>\n",
       "      <td>0.02</td>\n",
       "      <td>100.27</td>\n",
       "      <td>1.0</td>\n",
       "      <td>G25</td>\n",
       "      <td>경기관련소비재</td>\n",
       "      <td>321.0</td>\n",
       "      <td>8.0</td>\n",
       "      <td>39231923.0</td>\n",
       "      <td>0.6043</td>\n",
       "      <td>small</td>\n",
       "    </tr>\n",
       "    <tr>\n",
       "      <th>2223</th>\n",
       "      <td>054410</td>\n",
       "      <td>케이피티유</td>\n",
       "      <td>KOSDAQ</td>\n",
       "      <td>금속</td>\n",
       "      <td>5550</td>\n",
       "      <td>-150</td>\n",
       "      <td>-2.63</td>\n",
       "      <td>28083000000</td>\n",
       "      <td>1199.0</td>\n",
       "      <td>4.63</td>\n",
       "      <td>...</td>\n",
       "      <td>0.01</td>\n",
       "      <td>99.86</td>\n",
       "      <td>1.0</td>\n",
       "      <td>G15</td>\n",
       "      <td>소재</td>\n",
       "      <td>226.0</td>\n",
       "      <td>8.0</td>\n",
       "      <td>2479400.0</td>\n",
       "      <td>0.1598</td>\n",
       "      <td>small</td>\n",
       "    </tr>\n",
       "    <tr>\n",
       "      <th>2226</th>\n",
       "      <td>039740</td>\n",
       "      <td>한국정보공학</td>\n",
       "      <td>KOSDAQ</td>\n",
       "      <td>유통</td>\n",
       "      <td>3460</td>\n",
       "      <td>-240</td>\n",
       "      <td>-6.49</td>\n",
       "      <td>27743653620</td>\n",
       "      <td>523.0</td>\n",
       "      <td>6.62</td>\n",
       "      <td>...</td>\n",
       "      <td>0.00</td>\n",
       "      <td>99.41</td>\n",
       "      <td>1.0</td>\n",
       "      <td>G45</td>\n",
       "      <td>IT</td>\n",
       "      <td>586.0</td>\n",
       "      <td>2.0</td>\n",
       "      <td>4089382.0</td>\n",
       "      <td>0.1027</td>\n",
       "      <td>small</td>\n",
       "    </tr>\n",
       "    <tr>\n",
       "      <th>2259</th>\n",
       "      <td>033790</td>\n",
       "      <td>스카이문스테크놀로지</td>\n",
       "      <td>KOSDAQ</td>\n",
       "      <td>통신장비</td>\n",
       "      <td>829</td>\n",
       "      <td>0</td>\n",
       "      <td>0.00</td>\n",
       "      <td>14190075900</td>\n",
       "      <td>133.0</td>\n",
       "      <td>6.23</td>\n",
       "      <td>...</td>\n",
       "      <td>NaN</td>\n",
       "      <td>NaN</td>\n",
       "      <td>NaN</td>\n",
       "      <td>NaN</td>\n",
       "      <td>NaN</td>\n",
       "      <td>NaN</td>\n",
       "      <td>NaN</td>\n",
       "      <td>NaN</td>\n",
       "      <td>0.1027</td>\n",
       "      <td>small</td>\n",
       "    </tr>\n",
       "    <tr>\n",
       "      <th>2263</th>\n",
       "      <td>121890</td>\n",
       "      <td>에스디시스템</td>\n",
       "      <td>KOSDAQ</td>\n",
       "      <td>정보기기</td>\n",
       "      <td>739</td>\n",
       "      <td>0</td>\n",
       "      <td>0.00</td>\n",
       "      <td>8238120740</td>\n",
       "      <td>183.0</td>\n",
       "      <td>4.04</td>\n",
       "      <td>...</td>\n",
       "      <td>NaN</td>\n",
       "      <td>NaN</td>\n",
       "      <td>NaN</td>\n",
       "      <td>NaN</td>\n",
       "      <td>NaN</td>\n",
       "      <td>NaN</td>\n",
       "      <td>NaN</td>\n",
       "      <td>NaN</td>\n",
       "      <td>0.2178</td>\n",
       "      <td>small</td>\n",
       "    </tr>\n",
       "  </tbody>\n",
       "</table>\n",
       "<p>274 rows × 30 columns</p>\n",
       "</div>"
      ],
      "text/plain": [
       "        종목코드         종목명    시장구분   업종명      종가    대비   등락률            시가총액  \\\n",
       "8     000270          기아   KOSPI  운수장비   76400  -900 -1.16  30969759710800   \n",
       "11    005490    POSCO홀딩스   KOSPI  철강금속  242500 -8000 -3.19  21142807487500   \n",
       "26    003550          LG   KOSPI  기타금융   75600 -2000 -2.58  11891955070800   \n",
       "27    086790      하나금융지주   KOSPI  기타금융   40000 -2200 -5.21  11836139040000   \n",
       "29    017670       SK텔레콤   KOSPI   통신업   52000  -600 -1.14  11379323488000   \n",
       "...      ...         ...     ...   ...     ...   ...   ...             ...   \n",
       "2209  011300          성안   KOSPI  섬유의복     533     2  0.38     30305239380   \n",
       "2223  054410       케이피티유  KOSDAQ    금속    5550  -150 -2.63     28083000000   \n",
       "2226  039740      한국정보공학  KOSDAQ    유통    3460  -240 -6.49     27743653620   \n",
       "2259  033790  스카이문스테크놀로지  KOSDAQ  통신장비     829     0  0.00     14190075900   \n",
       "2263  121890      에스디시스템  KOSDAQ  정보기기     739     0  0.00      8238120740   \n",
       "\n",
       "          EPS   PER  ...    WGT   S_WGT  CAL_WGT  SEC_CD  SEC_NM_KOR    SEQ  \\\n",
       "8     11874.0  6.43  ...  15.51   35.05      1.0     G25     경기관련소비재    2.0   \n",
       "11    87330.0  2.78  ...  15.00   40.70      1.0     G15          소재    2.0   \n",
       "26    15504.0  4.88  ...   4.58   25.42      1.0     G20         산업재    4.0   \n",
       "27    11819.0  3.38  ...   9.30   37.44      1.0     G40          금융    3.0   \n",
       "29     7191.0  7.23  ...   5.24   62.13      1.0     G50   커뮤니케이션서비스    5.0   \n",
       "...       ...   ...  ...    ...     ...      ...     ...         ...    ...   \n",
       "2209    383.0  1.39  ...   0.02  100.27      1.0     G25     경기관련소비재  321.0   \n",
       "2223   1199.0  4.63  ...   0.01   99.86      1.0     G15          소재  226.0   \n",
       "2226    523.0  6.62  ...   0.00   99.41      1.0     G45          IT  586.0   \n",
       "2259    133.0  6.23  ...    NaN     NaN      NaN     NaN         NaN    NaN   \n",
       "2263    183.0  4.04  ...    NaN     NaN      NaN     NaN         NaN    NaN   \n",
       "\n",
       "     TOP60  APT_SHR_CNT     ROE   size  \n",
       "8      8.0  251325275.0  0.1369    big  \n",
       "11     8.0   60158916.0  0.1295    big  \n",
       "26    19.0   83369526.0  0.1168    big  \n",
       "27     8.0  263354094.0  0.1006    big  \n",
       "29     5.0  113793235.0  0.1355    big  \n",
       "...    ...          ...     ...    ...  \n",
       "2209   8.0   39231923.0  0.6043  small  \n",
       "2223   8.0    2479400.0  0.1598  small  \n",
       "2226   2.0    4089382.0  0.1027  small  \n",
       "2259   NaN          NaN  0.1027  small  \n",
       "2263   NaN          NaN  0.2178  small  \n",
       "\n",
       "[274 rows x 30 columns]"
      ]
     },
     "execution_count": 25,
     "metadata": {},
     "output_type": "execute_result"
    }
   ],
   "source": [
    "# Filter\n",
    "cond_1 = data_market['PBR'] < 1\n",
    "cond_2 = data_market['PER'] < 20\n",
    "cond_3 = data_market['ROE'] > 0.1\n",
    "\n",
    "data_market[cond_1 & cond_2 & cond_3]"
   ]
  },
  {
   "cell_type": "code",
   "execution_count": 29,
   "metadata": {},
   "outputs": [
    {
     "data": {
      "text/plain": [
       "count    2258.000000\n",
       "mean        1.948211\n",
       "std         2.805935\n",
       "min         0.150000\n",
       "25%         0.660000\n",
       "50%         1.180000\n",
       "75%         2.150000\n",
       "max        50.960000\n",
       "Name: PBR, dtype: float64"
      ]
     },
     "execution_count": 29,
     "metadata": {},
     "output_type": "execute_result"
    }
   ],
   "source": [
    "# 요약 통계\n",
    "data_market['PBR'].describe()"
   ]
  },
  {
   "cell_type": "code",
   "execution_count": 37,
   "metadata": {},
   "outputs": [
    {
     "data": {
      "text/html": [
       "<div>\n",
       "<style scoped>\n",
       "    .dataframe tbody tr th:only-of-type {\n",
       "        vertical-align: middle;\n",
       "    }\n",
       "\n",
       "    .dataframe tbody tr th {\n",
       "        vertical-align: top;\n",
       "    }\n",
       "\n",
       "    .dataframe thead th {\n",
       "        text-align: right;\n",
       "    }\n",
       "</style>\n",
       "<table border=\"1\" class=\"dataframe\">\n",
       "  <thead>\n",
       "    <tr style=\"text-align: right;\">\n",
       "      <th></th>\n",
       "      <th>종목명</th>\n",
       "      <th>시가총액</th>\n",
       "      <th>ROE</th>\n",
       "    </tr>\n",
       "  </thead>\n",
       "  <tbody>\n",
       "    <tr>\n",
       "      <th>606</th>\n",
       "      <td>STX엔진</td>\n",
       "      <td>296814861600</td>\n",
       "      <td>0.0002</td>\n",
       "    </tr>\n",
       "    <tr>\n",
       "      <th>947</th>\n",
       "      <td>블루콤</td>\n",
       "      <td>172710000000</td>\n",
       "      <td>0.0004</td>\n",
       "    </tr>\n",
       "    <tr>\n",
       "      <th>696</th>\n",
       "      <td>아바텍</td>\n",
       "      <td>251280750000</td>\n",
       "      <td>0.0006</td>\n",
       "    </tr>\n",
       "    <tr>\n",
       "      <th>2057</th>\n",
       "      <td>서울전자통신</td>\n",
       "      <td>46763705184</td>\n",
       "      <td>0.0008</td>\n",
       "    </tr>\n",
       "    <tr>\n",
       "      <th>1245</th>\n",
       "      <td>FSN</td>\n",
       "      <td>118873391520</td>\n",
       "      <td>0.0010</td>\n",
       "    </tr>\n",
       "    <tr>\n",
       "      <th>...</th>\n",
       "      <td>...</td>\n",
       "      <td>...</td>\n",
       "      <td>...</td>\n",
       "    </tr>\n",
       "    <tr>\n",
       "      <th>1186</th>\n",
       "      <td>지투파워</td>\n",
       "      <td>126642782250</td>\n",
       "      <td>0.7541</td>\n",
       "    </tr>\n",
       "    <tr>\n",
       "      <th>1810</th>\n",
       "      <td>웨이브일렉트로</td>\n",
       "      <td>66921514320</td>\n",
       "      <td>0.7706</td>\n",
       "    </tr>\n",
       "    <tr>\n",
       "      <th>228</th>\n",
       "      <td>현대두산인프라코어</td>\n",
       "      <td>993588600750</td>\n",
       "      <td>0.8372</td>\n",
       "    </tr>\n",
       "    <tr>\n",
       "      <th>423</th>\n",
       "      <td>우리기술투자</td>\n",
       "      <td>435120000000</td>\n",
       "      <td>0.8462</td>\n",
       "    </tr>\n",
       "    <tr>\n",
       "      <th>309</th>\n",
       "      <td>F&amp;F홀딩스</td>\n",
       "      <td>706014324350</td>\n",
       "      <td>1.7143</td>\n",
       "    </tr>\n",
       "  </tbody>\n",
       "</table>\n",
       "<p>1586 rows × 3 columns</p>\n",
       "</div>"
      ],
      "text/plain": [
       "            종목명          시가총액     ROE\n",
       "606       STX엔진  296814861600  0.0002\n",
       "947         블루콤  172710000000  0.0004\n",
       "696         아바텍  251280750000  0.0006\n",
       "2057     서울전자통신   46763705184  0.0008\n",
       "1245        FSN  118873391520  0.0010\n",
       "...         ...           ...     ...\n",
       "1186       지투파워  126642782250  0.7541\n",
       "1810    웨이브일렉트로   66921514320  0.7706\n",
       "228   현대두산인프라코어  993588600750  0.8372\n",
       "423      우리기술투자  435120000000  0.8462\n",
       "309      F&F홀딩스  706014324350  1.7143\n",
       "\n",
       "[1586 rows x 3 columns]"
      ]
     },
     "execution_count": 37,
     "metadata": {},
     "output_type": "execute_result"
    }
   ],
   "source": [
    "# 정렬\n",
    "data_market[['종목명', '시가총액', 'ROE']].sort_values('ROE').dropna(subset=['ROE'], axis=0)"
   ]
  },
  {
   "cell_type": "code",
   "execution_count": 54,
   "metadata": {},
   "outputs": [
    {
     "data": {
      "text/html": [
       "<div>\n",
       "<style scoped>\n",
       "    .dataframe tbody tr th:only-of-type {\n",
       "        vertical-align: middle;\n",
       "    }\n",
       "\n",
       "    .dataframe tbody tr th {\n",
       "        vertical-align: top;\n",
       "    }\n",
       "\n",
       "    .dataframe thead th {\n",
       "        text-align: right;\n",
       "    }\n",
       "</style>\n",
       "<table border=\"1\" class=\"dataframe\">\n",
       "  <thead>\n",
       "    <tr style=\"text-align: right;\">\n",
       "      <th></th>\n",
       "      <th>종목명</th>\n",
       "      <th>PBR</th>\n",
       "      <th>PBR_rank</th>\n",
       "    </tr>\n",
       "  </thead>\n",
       "  <tbody>\n",
       "    <tr>\n",
       "      <th>139</th>\n",
       "      <td>한화생명</td>\n",
       "      <td>0.15</td>\n",
       "      <td>1.0</td>\n",
       "    </tr>\n",
       "    <tr>\n",
       "      <th>463</th>\n",
       "      <td>HDC</td>\n",
       "      <td>0.15</td>\n",
       "      <td>1.0</td>\n",
       "    </tr>\n",
       "    <tr>\n",
       "      <th>909</th>\n",
       "      <td>넥센</td>\n",
       "      <td>0.17</td>\n",
       "      <td>3.0</td>\n",
       "    </tr>\n",
       "    <tr>\n",
       "      <th>1055</th>\n",
       "      <td>대한화섬</td>\n",
       "      <td>0.17</td>\n",
       "      <td>3.0</td>\n",
       "    </tr>\n",
       "    <tr>\n",
       "      <th>1604</th>\n",
       "      <td>경동인베스트</td>\n",
       "      <td>0.18</td>\n",
       "      <td>5.0</td>\n",
       "    </tr>\n",
       "    <tr>\n",
       "      <th>...</th>\n",
       "      <td>...</td>\n",
       "      <td>...</td>\n",
       "      <td>...</td>\n",
       "    </tr>\n",
       "    <tr>\n",
       "      <th>2235</th>\n",
       "      <td>베스파</td>\n",
       "      <td>NaN</td>\n",
       "      <td>NaN</td>\n",
       "    </tr>\n",
       "    <tr>\n",
       "      <th>2261</th>\n",
       "      <td>아리온</td>\n",
       "      <td>NaN</td>\n",
       "      <td>NaN</td>\n",
       "    </tr>\n",
       "    <tr>\n",
       "      <th>2262</th>\n",
       "      <td>지나인제약</td>\n",
       "      <td>NaN</td>\n",
       "      <td>NaN</td>\n",
       "    </tr>\n",
       "    <tr>\n",
       "      <th>2264</th>\n",
       "      <td>제이웨이</td>\n",
       "      <td>NaN</td>\n",
       "      <td>NaN</td>\n",
       "    </tr>\n",
       "    <tr>\n",
       "      <th>2265</th>\n",
       "      <td>케이프이에스제4호</td>\n",
       "      <td>NaN</td>\n",
       "      <td>NaN</td>\n",
       "    </tr>\n",
       "  </tbody>\n",
       "</table>\n",
       "<p>2268 rows × 3 columns</p>\n",
       "</div>"
      ],
      "text/plain": [
       "            종목명   PBR  PBR_rank\n",
       "139        한화생명  0.15       1.0\n",
       "463         HDC  0.15       1.0\n",
       "909          넥센  0.17       3.0\n",
       "1055       대한화섬  0.17       3.0\n",
       "1604     경동인베스트  0.18       5.0\n",
       "...         ...   ...       ...\n",
       "2235        베스파   NaN       NaN\n",
       "2261        아리온   NaN       NaN\n",
       "2262      지나인제약   NaN       NaN\n",
       "2264       제이웨이   NaN       NaN\n",
       "2265  케이프이에스제4호   NaN       NaN\n",
       "\n",
       "[2268 rows x 3 columns]"
      ]
     },
     "execution_count": 54,
     "metadata": {},
     "output_type": "execute_result"
    }
   ],
   "source": [
    "# 순위 계산\n",
    "data_market['PBR_rank'] =  data_market['PBR'].rank(method='min', ascending=True, na_option='keep')\n",
    "data_market[['종목명', 'PBR', 'PBR_rank']].sort_values('PBR_rank', ascending=True)"
   ]
  },
  {
   "cell_type": "code",
   "execution_count": 53,
   "metadata": {},
   "outputs": [
    {
     "data": {
      "text/html": [
       "<div>\n",
       "<style scoped>\n",
       "    .dataframe tbody tr th:only-of-type {\n",
       "        vertical-align: middle;\n",
       "    }\n",
       "\n",
       "    .dataframe tbody tr th {\n",
       "        vertical-align: top;\n",
       "    }\n",
       "\n",
       "    .dataframe thead th {\n",
       "        text-align: right;\n",
       "    }\n",
       "</style>\n",
       "<table border=\"1\" class=\"dataframe\">\n",
       "  <thead>\n",
       "    <tr style=\"text-align: right;\">\n",
       "      <th></th>\n",
       "      <th>종목명</th>\n",
       "      <th>ROE</th>\n",
       "      <th>ROE_rank</th>\n",
       "    </tr>\n",
       "  </thead>\n",
       "  <tbody>\n",
       "    <tr>\n",
       "      <th>309</th>\n",
       "      <td>F&amp;F홀딩스</td>\n",
       "      <td>1.7143</td>\n",
       "      <td>1.0</td>\n",
       "    </tr>\n",
       "    <tr>\n",
       "      <th>423</th>\n",
       "      <td>우리기술투자</td>\n",
       "      <td>0.8462</td>\n",
       "      <td>2.0</td>\n",
       "    </tr>\n",
       "    <tr>\n",
       "      <th>228</th>\n",
       "      <td>현대두산인프라코어</td>\n",
       "      <td>0.8372</td>\n",
       "      <td>3.0</td>\n",
       "    </tr>\n",
       "    <tr>\n",
       "      <th>1810</th>\n",
       "      <td>웨이브일렉트로</td>\n",
       "      <td>0.7706</td>\n",
       "      <td>4.0</td>\n",
       "    </tr>\n",
       "    <tr>\n",
       "      <th>1186</th>\n",
       "      <td>지투파워</td>\n",
       "      <td>0.7541</td>\n",
       "      <td>5.0</td>\n",
       "    </tr>\n",
       "    <tr>\n",
       "      <th>...</th>\n",
       "      <td>...</td>\n",
       "      <td>...</td>\n",
       "      <td>...</td>\n",
       "    </tr>\n",
       "    <tr>\n",
       "      <th>2261</th>\n",
       "      <td>아리온</td>\n",
       "      <td>NaN</td>\n",
       "      <td>NaN</td>\n",
       "    </tr>\n",
       "    <tr>\n",
       "      <th>2262</th>\n",
       "      <td>지나인제약</td>\n",
       "      <td>NaN</td>\n",
       "      <td>NaN</td>\n",
       "    </tr>\n",
       "    <tr>\n",
       "      <th>2264</th>\n",
       "      <td>제이웨이</td>\n",
       "      <td>NaN</td>\n",
       "      <td>NaN</td>\n",
       "    </tr>\n",
       "    <tr>\n",
       "      <th>2265</th>\n",
       "      <td>케이프이에스제4호</td>\n",
       "      <td>NaN</td>\n",
       "      <td>NaN</td>\n",
       "    </tr>\n",
       "    <tr>\n",
       "      <th>2267</th>\n",
       "      <td>에이치엔티</td>\n",
       "      <td>NaN</td>\n",
       "      <td>NaN</td>\n",
       "    </tr>\n",
       "  </tbody>\n",
       "</table>\n",
       "<p>2268 rows × 3 columns</p>\n",
       "</div>"
      ],
      "text/plain": [
       "            종목명     ROE  ROE_rank\n",
       "309      F&F홀딩스  1.7143       1.0\n",
       "423      우리기술투자  0.8462       2.0\n",
       "228   현대두산인프라코어  0.8372       3.0\n",
       "1810    웨이브일렉트로  0.7706       4.0\n",
       "1186       지투파워  0.7541       5.0\n",
       "...         ...     ...       ...\n",
       "2261        아리온     NaN       NaN\n",
       "2262      지나인제약     NaN       NaN\n",
       "2264       제이웨이     NaN       NaN\n",
       "2265  케이프이에스제4호     NaN       NaN\n",
       "2267      에이치엔티     NaN       NaN\n",
       "\n",
       "[2268 rows x 3 columns]"
      ]
     },
     "execution_count": 53,
     "metadata": {},
     "output_type": "execute_result"
    }
   ],
   "source": [
    "# 순위 계산\n",
    "data_market['ROE_rank'] =  data_market['ROE'].rank(method='min', ascending=False, na_option='keep')\n",
    "data_market[['종목명', 'ROE', 'ROE_rank']].sort_values('ROE_rank', ascending=True)"
   ]
  },
  {
   "cell_type": "code",
   "execution_count": 60,
   "metadata": {},
   "outputs": [
    {
     "data": {
      "text/plain": [
       "array([0])"
      ]
     },
     "execution_count": 60,
     "metadata": {},
     "output_type": "execute_result"
    }
   ],
   "source": [
    "import numpy as np\n",
    "np.arange(0, 1, 5)"
   ]
  },
  {
   "cell_type": "code",
   "execution_count": 62,
   "metadata": {},
   "outputs": [
    {
     "ename": "TypeError",
     "evalue": "'float' object cannot be interpreted as an integer",
     "output_type": "error",
     "traceback": [
      "\u001b[1;31m---------------------------------------------------------------------------\u001b[0m",
      "\u001b[1;31mTypeError\u001b[0m                                 Traceback (most recent call last)",
      "\u001b[1;32m<ipython-input-62-63c9df423e41>\u001b[0m in \u001b[0;36m<module>\u001b[1;34m\u001b[0m\n\u001b[1;32m----> 1\u001b[1;33m \u001b[0mlist\u001b[0m\u001b[1;33m(\u001b[0m\u001b[0mrange\u001b[0m\u001b[1;33m(\u001b[0m\u001b[1;36m0.\u001b[0m\u001b[1;33m,\u001b[0m \u001b[1;36m1.\u001b[0m\u001b[1;33m,\u001b[0m \u001b[1;36m0.1\u001b[0m\u001b[1;33m)\u001b[0m\u001b[1;33m)\u001b[0m\u001b[1;33m\u001b[0m\u001b[1;33m\u001b[0m\u001b[0m\n\u001b[0m",
      "\u001b[1;31mTypeError\u001b[0m: 'float' object cannot be interpreted as an integer"
     ]
    }
   ],
   "source": [
    "list(range(0., 1., 0.1))"
   ]
  },
  {
   "cell_type": "code",
   "execution_count": 92,
   "metadata": {},
   "outputs": [
    {
     "data": {
      "text/html": [
       "<div>\n",
       "<style scoped>\n",
       "    .dataframe tbody tr th:only-of-type {\n",
       "        vertical-align: middle;\n",
       "    }\n",
       "\n",
       "    .dataframe tbody tr th {\n",
       "        vertical-align: top;\n",
       "    }\n",
       "\n",
       "    .dataframe thead th {\n",
       "        text-align: right;\n",
       "    }\n",
       "</style>\n",
       "<table border=\"1\" class=\"dataframe\">\n",
       "  <thead>\n",
       "    <tr style=\"text-align: right;\">\n",
       "      <th></th>\n",
       "      <th>PBR</th>\n",
       "      <th>PBR_5_tile</th>\n",
       "    </tr>\n",
       "  </thead>\n",
       "  <tbody>\n",
       "    <tr>\n",
       "      <th>0</th>\n",
       "      <td>1.32</td>\n",
       "      <td>3.0</td>\n",
       "    </tr>\n",
       "    <tr>\n",
       "      <th>1</th>\n",
       "      <td>10.07</td>\n",
       "      <td>5.0</td>\n",
       "    </tr>\n",
       "    <tr>\n",
       "      <th>2</th>\n",
       "      <td>1.02</td>\n",
       "      <td>3.0</td>\n",
       "    </tr>\n",
       "    <tr>\n",
       "      <th>3</th>\n",
       "      <td>10.96</td>\n",
       "      <td>5.0</td>\n",
       "    </tr>\n",
       "    <tr>\n",
       "      <th>4</th>\n",
       "      <td>1.99</td>\n",
       "      <td>4.0</td>\n",
       "    </tr>\n",
       "    <tr>\n",
       "      <th>...</th>\n",
       "      <td>...</td>\n",
       "      <td>...</td>\n",
       "    </tr>\n",
       "    <tr>\n",
       "      <th>2263</th>\n",
       "      <td>0.88</td>\n",
       "      <td>2.0</td>\n",
       "    </tr>\n",
       "    <tr>\n",
       "      <th>2264</th>\n",
       "      <td>NaN</td>\n",
       "      <td>NaN</td>\n",
       "    </tr>\n",
       "    <tr>\n",
       "      <th>2265</th>\n",
       "      <td>NaN</td>\n",
       "      <td>NaN</td>\n",
       "    </tr>\n",
       "    <tr>\n",
       "      <th>2266</th>\n",
       "      <td>0.38</td>\n",
       "      <td>1.0</td>\n",
       "    </tr>\n",
       "    <tr>\n",
       "      <th>2267</th>\n",
       "      <td>0.27</td>\n",
       "      <td>1.0</td>\n",
       "    </tr>\n",
       "  </tbody>\n",
       "</table>\n",
       "<p>2268 rows × 2 columns</p>\n",
       "</div>"
      ],
      "text/plain": [
       "        PBR  PBR_5_tile\n",
       "0      1.32         3.0\n",
       "1     10.07         5.0\n",
       "2      1.02         3.0\n",
       "3     10.96         5.0\n",
       "4      1.99         4.0\n",
       "...     ...         ...\n",
       "2263   0.88         2.0\n",
       "2264    NaN         NaN\n",
       "2265    NaN         NaN\n",
       "2266   0.38         1.0\n",
       "2267   0.27         1.0\n",
       "\n",
       "[2268 rows x 2 columns]"
      ]
     },
     "execution_count": 92,
     "metadata": {},
     "output_type": "execute_result"
    }
   ],
   "source": [
    "# ntile 분위수 계산\n",
    "n = 5\n",
    "\n",
    "def ntile(data, n=5):\n",
    "    step = 1/n\n",
    "    data_copy = data.copy()\n",
    "    # data_market[f'PBR_{n}_tile'] = None\n",
    "    for r in range(n):\n",
    "        left = data.quantile(r*step)\n",
    "        right = data.quantile((r+1)*step)\n",
    "\n",
    "        left_cond = data >= left\n",
    "        right_cond = data < right\n",
    "\n",
    "        data_copy[left_cond & right_cond] = r+1\n",
    "    return data_copy\n",
    "\n",
    "data_market['PBR_5_tile'] = ntile(data_market['PBR'], n=5)\n",
    "data_market[['PBR', f'PBR_{n}_tile']]\n",
    "\n"
   ]
  },
  {
   "cell_type": "markdown",
   "metadata": {},
   "source": [
    "# 시각화"
   ]
  },
  {
   "cell_type": "markdown",
   "metadata": {},
   "source": [
    "## 산포도"
   ]
  },
  {
   "cell_type": "code",
   "execution_count": 194,
   "metadata": {},
   "outputs": [
    {
     "data": {
      "text/plain": [
       "Text(0, 0.5, 'PBR')"
      ]
     },
     "execution_count": 194,
     "metadata": {},
     "output_type": "execute_result"
    },
    {
     "data": {
      "image/png": "[encoded data removed]",
      "text/plain": [
       "<Figure size 1080x576 with 1 Axes>"
      ]
     },
     "metadata": {},
     "output_type": "display_data"
    }
   ],
   "source": [
    "plt.scatter(data_market['ROE'], data_market['PBR'])\n",
    "plt.xlabel('ROE'),\n",
    "plt.ylabel('PBR')"
   ]
  },
  {
   "cell_type": "code",
   "execution_count": 122,
   "metadata": {},
   "outputs": [
    {
     "data": {
      "text/plain": [
       "<seaborn.axisgrid.FacetGrid at 0x2a6b2426948>"
      ]
     },
     "execution_count": 122,
     "metadata": {},
     "output_type": "execute_result"
    },
    {
     "data": {
      "image/png": "[encoded data removed]",
      "text/plain": [
       "<Figure size 864x432 with 2 Axes>"
      ]
     },
     "metadata": {
      "needs_background": "light"
     },
     "output_type": "display_data"
    }
   ],
   "source": [
    "# sns.scatterplot(data_market['ROE'], data_market['PBR'])\n",
    "g = sns.lmplot(data=data_market, x='ROE', y='PBR', hue='시장구분', col='시장구분', height=6, aspect=1, x_jitter=.1)\n",
    "g.set(xlim=(0, 0.30), ylim=(0,3))\n",
    "# sns.lmplot(data=data_market, x='ROE', y='PBR')"
   ]
  },
  {
   "cell_type": "markdown",
   "metadata": {},
   "source": [
    "## 히스토그램"
   ]
  },
  {
   "cell_type": "code",
   "execution_count": 140,
   "metadata": {},
   "outputs": [
    {
     "data": {
      "text/plain": [
       "<matplotlib.lines.Line2D at 0x2a6bd789bc8>"
      ]
     },
     "execution_count": 140,
     "metadata": {},
     "output_type": "execute_result"
    },
    {
     "data": {
      "image/png": "[encoded data removed]",
      "text/plain": [
       "<Figure size 1080x576 with 1 Axes>"
      ]
     },
     "metadata": {},
     "output_type": "display_data"
    }
   ],
   "source": [
    "g = sns.histplot(data=data_market, x='PBR', binwidth=0.1, kde=True, hue='시장구분')\n",
    "g.set(xlim=(0, 10))\n",
    "plt.axvline(x=data_market[data_market['시장구분']=='KOSPI'].PBR.median(), color='purple')\n",
    "plt.axvline(x=data_market[data_market['시장구분']=='KOSDAQ'].PBR.median(), color='red')"
   ]
  },
  {
   "cell_type": "markdown",
   "metadata": {},
   "source": [
    "## 박스플롯"
   ]
  },
  {
   "cell_type": "code",
   "execution_count": 145,
   "metadata": {},
   "outputs": [
    {
     "data": {
      "image/png": "[encoded data removed]",
      "text/plain": [
       "<Figure size 1080x576 with 1 Axes>"
      ]
     },
     "metadata": {},
     "output_type": "display_data"
    }
   ],
   "source": [
    "plt.rc(\"font\", family = \"Malgun Gothic\")\n",
    "sns.set(font=\"Malgun Gothic\", \n",
    "rc={\"axes.unicode_minus\":False}, style='darkgrid')\n",
    "sns.set_theme(style=\"whitegrid\")\n",
    "ax = sns.boxplot(data=data_market, x=\"PBR\", y='SEC_NM_KOR')"
   ]
  },
  {
   "cell_type": "code",
   "execution_count": 155,
   "metadata": {},
   "outputs": [
    {
     "data": {
      "image/png": "[encoded data removed]",
      "text/plain": [
       "<Figure size 1080x576 with 1 Axes>"
      ]
     },
     "metadata": {},
     "output_type": "display_data"
    }
   ],
   "source": [
    "sector_summary = data_market[data_market['SEC_NM_KOR'].isna().apply(lambda x: not x)][['SEC_NM_KOR', 'ROE', 'PBR']].groupby('SEC_NM_KOR').median().reset_index()\n",
    "g = sns.scatterplot(data=sector_summary, x='ROE', y='PBR', hue='SEC_NM_KOR')"
   ]
  },
  {
   "cell_type": "code",
   "execution_count": 158,
   "metadata": {},
   "outputs": [
    {
     "data": {
      "text/plain": [
       "<AxesSubplot:xlabel='sector', ylabel='count'>"
      ]
     },
     "execution_count": 158,
     "metadata": {},
     "output_type": "execute_result"
    },
    {
     "data": {
      "image/png": "[encoded data removed]",
      "text/plain": [
       "<Figure size 1080x576 with 1 Axes>"
      ]
     },
     "metadata": {},
     "output_type": "display_data"
    }
   ],
   "source": [
    "sns.barplot(\n",
    "    data = data_market['SEC_NM_KOR'].value_counts().reset_index().rename(columns={'index': 'sector', 'SEC_NM_KOR': 'count'}),\n",
    "    x='sector', y='count'\n",
    ")"
   ]
  },
  {
   "cell_type": "markdown",
   "metadata": {},
   "source": [
    "# 주가 시각화"
   ]
  },
  {
   "cell_type": "code",
   "execution_count": 3,
   "metadata": {},
   "outputs": [
    {
     "data": {
      "image/png": "[encoded data removed]",
      "text/plain": [
       "<Figure size 432x288 with 1 Axes>"
      ]
     },
     "metadata": {
      "needs_background": "light"
     },
     "output_type": "display_data"
    }
   ],
   "source": [
    "prices = pd.read_csv('data/KOR_price/005930_price.csv', encoding='cp949')\n",
    "prices[\"날짜\"] = pd.to_datetime(prices[\"날짜\"], format = \"%Y%m%d\")\n",
    "g = sns.lineplot(data=prices, x='날짜', y='종가')"
   ]
  },
  {
   "cell_type": "markdown",
   "metadata": {},
   "source": [
    "# 연도별 수익률"
   ]
  },
  {
   "cell_type": "code",
   "execution_count": 4,
   "metadata": {},
   "outputs": [
    {
     "data": {
      "text/plain": [
       "(9400, 15980)"
      ]
     },
     "execution_count": 4,
     "metadata": {},
     "output_type": "execute_result"
    }
   ],
   "source": [
    "year=2009\n",
    "buy, sell = prices[pd.DatetimeIndex(prices['날짜']).year == year].iloc[[0, -1], 1].tolist()\n",
    "buy, sell"
   ]
  },
  {
   "cell_type": "code",
   "execution_count": 8,
   "metadata": {},
   "outputs": [
    {
     "data": {
      "text/html": [
       "<div>\n",
       "<style scoped>\n",
       "    .dataframe tbody tr th:only-of-type {\n",
       "        vertical-align: middle;\n",
       "    }\n",
       "\n",
       "    .dataframe tbody tr th {\n",
       "        vertical-align: top;\n",
       "    }\n",
       "\n",
       "    .dataframe thead th {\n",
       "        text-align: right;\n",
       "    }\n",
       "</style>\n",
       "<table border=\"1\" class=\"dataframe\">\n",
       "  <thead>\n",
       "    <tr style=\"text-align: right;\">\n",
       "      <th></th>\n",
       "      <th>year</th>\n",
       "      <th>return</th>\n",
       "    </tr>\n",
       "  </thead>\n",
       "  <tbody>\n",
       "    <tr>\n",
       "      <th>0</th>\n",
       "      <td>2002</td>\n",
       "      <td>0.0162</td>\n",
       "    </tr>\n",
       "    <tr>\n",
       "      <th>1</th>\n",
       "      <td>2003</td>\n",
       "      <td>0.4028</td>\n",
       "    </tr>\n",
       "    <tr>\n",
       "      <th>2</th>\n",
       "      <td>2004</td>\n",
       "      <td>0.0033</td>\n",
       "    </tr>\n",
       "    <tr>\n",
       "      <th>3</th>\n",
       "      <td>2005</td>\n",
       "      <td>0.4612</td>\n",
       "    </tr>\n",
       "    <tr>\n",
       "      <th>4</th>\n",
       "      <td>2006</td>\n",
       "      <td>-0.0698</td>\n",
       "    </tr>\n",
       "    <tr>\n",
       "      <th>5</th>\n",
       "      <td>2007</td>\n",
       "      <td>-0.1104</td>\n",
       "    </tr>\n",
       "    <tr>\n",
       "      <th>6</th>\n",
       "      <td>2008</td>\n",
       "      <td>-0.171</td>\n",
       "    </tr>\n",
       "    <tr>\n",
       "      <th>7</th>\n",
       "      <td>2009</td>\n",
       "      <td>0.7</td>\n",
       "    </tr>\n",
       "    <tr>\n",
       "      <th>8</th>\n",
       "      <td>2010</td>\n",
       "      <td>0.1731</td>\n",
       "    </tr>\n",
       "    <tr>\n",
       "      <th>9</th>\n",
       "      <td>2011</td>\n",
       "      <td>0.1044</td>\n",
       "    </tr>\n",
       "    <tr>\n",
       "      <th>10</th>\n",
       "      <td>2012</td>\n",
       "      <td>0.4093</td>\n",
       "    </tr>\n",
       "    <tr>\n",
       "      <th>11</th>\n",
       "      <td>2013</td>\n",
       "      <td>-0.1294</td>\n",
       "    </tr>\n",
       "    <tr>\n",
       "      <th>12</th>\n",
       "      <td>2014</td>\n",
       "      <td>0.0138</td>\n",
       "    </tr>\n",
       "    <tr>\n",
       "      <th>13</th>\n",
       "      <td>2015</td>\n",
       "      <td>-0.0526</td>\n",
       "    </tr>\n",
       "    <tr>\n",
       "      <th>14</th>\n",
       "      <td>2016</td>\n",
       "      <td>0.4954</td>\n",
       "    </tr>\n",
       "    <tr>\n",
       "      <th>15</th>\n",
       "      <td>2017</td>\n",
       "      <td>0.4116</td>\n",
       "    </tr>\n",
       "    <tr>\n",
       "      <th>16</th>\n",
       "      <td>2018</td>\n",
       "      <td>-0.2415</td>\n",
       "    </tr>\n",
       "    <tr>\n",
       "      <th>17</th>\n",
       "      <td>2019</td>\n",
       "      <td>0.44</td>\n",
       "    </tr>\n",
       "    <tr>\n",
       "      <th>18</th>\n",
       "      <td>2020</td>\n",
       "      <td>0.4674</td>\n",
       "    </tr>\n",
       "    <tr>\n",
       "      <th>19</th>\n",
       "      <td>2021</td>\n",
       "      <td>-0.0566</td>\n",
       "    </tr>\n",
       "    <tr>\n",
       "      <th>20</th>\n",
       "      <td>2022</td>\n",
       "      <td>-0.257</td>\n",
       "    </tr>\n",
       "  </tbody>\n",
       "</table>\n",
       "</div>"
      ],
      "text/plain": [
       "    year  return\n",
       "0   2002  0.0162\n",
       "1   2003  0.4028\n",
       "2   2004  0.0033\n",
       "3   2005  0.4612\n",
       "4   2006 -0.0698\n",
       "5   2007 -0.1104\n",
       "6   2008  -0.171\n",
       "7   2009     0.7\n",
       "8   2010  0.1731\n",
       "9   2011  0.1044\n",
       "10  2012  0.4093\n",
       "11  2013 -0.1294\n",
       "12  2014  0.0138\n",
       "13  2015 -0.0526\n",
       "14  2016  0.4954\n",
       "15  2017  0.4116\n",
       "16  2018 -0.2415\n",
       "17  2019    0.44\n",
       "18  2020  0.4674\n",
       "19  2021 -0.0566\n",
       "20  2022  -0.257"
      ]
     },
     "execution_count": 8,
     "metadata": {},
     "output_type": "execute_result"
    }
   ],
   "source": [
    "years = pd.DatetimeIndex(prices['날짜']).year.unique()\n",
    "ret_yearly = pd.DataFrame({'year': years, 'return': [None]*len(years)})\n",
    "ret_yearly = ret_yearly.set_index('year')\n",
    "\n",
    "for year in years:\n",
    "    buy, sell = prices[pd.DatetimeIndex(prices['날짜']).year == year].iloc[[0, -1], 1].tolist()\n",
    "    rt_year = round((sell-buy)/buy, 4)\n",
    "    ret_yearly.loc[year, 'return'] = rt_year\n",
    "\n",
    "ret_yearly = ret_yearly.reset_index()\n",
    "ret_yearly"
   ]
  },
  {
   "cell_type": "code",
   "execution_count": 14,
   "metadata": {},
   "outputs": [
    {
     "data": {
      "text/plain": [
       "<AxesSubplot:xlabel='year', ylabel='return'>"
      ]
     },
     "execution_count": 14,
     "metadata": {},
     "output_type": "execute_result"
    },
    {
     "data": {
      "image/png": "[encoded data removed]",
      "text/plain": [
       "<Figure size 1080x576 with 1 Axes>"
      ]
     },
     "metadata": {},
     "output_type": "display_data"
    }
   ],
   "source": [
    "ax = sns.barplot(data=ret_yearly, x='year', y='return')\n",
    "ax.bar_label(ax.containers[0])\n",
    "ax"
   ]
  },
  {
   "cell_type": "code",
   "execution_count": null,
   "metadata": {},
   "outputs": [],
   "source": []
  }
 ],
 "metadata": {
  "interpreter": {
   "hash": "5d37ad4278df7c43cfc5ad5e48ddc5f6aebcf6b1ae5b575ada80ed06572ba1a8"
  },
  "kernelspec": {
   "display_name": "Python 3.7.10 64-bit ('mlLearn': conda)",
   "language": "python",
   "name": "python3"
  },
  "language_info": {
   "codemirror_mode": {
    "name": "ipython",
    "version": 3
   },
   "file_extension": ".py",
   "mimetype": "text/x-python",
   "name": "python",
   "nbconvert_exporter": "python",
   "pygments_lexer": "ipython3",
   "version": "3.7.10"
  },
  "orig_nbformat": 4
 },
 "nbformat": 4,
 "nbformat_minor": 2
}
